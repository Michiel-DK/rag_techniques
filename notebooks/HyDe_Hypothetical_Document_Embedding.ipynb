{
 "cells": [
  {
   "cell_type": "markdown",
   "metadata": {},
   "source": [
    "# Hypothetical Document Embedding (HyDE) in Document Retrieval\n",
    "\n",
    "## Overview\n",
    "\n",
    "This code implements a Hypothetical Document Embedding (HyDE) system for document retrieval. HyDE is an innovative approach that transforms query questions into hypothetical documents containing the answer, aiming to bridge the gap between query and document distributions in vector space.\n",
    "\n",
    "## Motivation\n",
    "\n",
    "Traditional retrieval methods often struggle with the semantic gap between short queries and longer, more detailed documents. HyDE addresses this by expanding the query into a full hypothetical document, potentially improving retrieval relevance by making the query representation more similar to the document representations in the vector space.\n",
    "\n",
    "## Key Components\n",
    "\n",
    "1. PDF processing and text chunking\n",
    "2. Vector store creation using FAISS and OpenAI embeddings\n",
    "3. Language model for generating hypothetical documents\n",
    "4. Custom HyDERetriever class implementing the HyDE technique\n",
    "\n",
    "## Method Details\n",
    "\n",
    "### Document Preprocessing and Vector Store Creation\n",
    "\n",
    "1. The PDF is processed and split into chunks.\n",
    "2. A FAISS vector store is created using OpenAI embeddings for efficient similarity search.\n",
    "\n",
    "### Hypothetical Document Generation\n",
    "\n",
    "1. A language model (GPT-4) is used to generate a hypothetical document that answers the given query.\n",
    "2. The generation is guided by a prompt template that ensures the hypothetical document is detailed and matches the chunk size used in the vector store.\n",
    "\n",
    "### Retrieval Process\n",
    "\n",
    "The `HyDERetriever` class implements the following steps:\n",
    "\n",
    "1. Generate a hypothetical document from the query using the language model.\n",
    "2. Use the hypothetical document as the search query in the vector store.\n",
    "3. Retrieve the most similar documents to this hypothetical document.\n",
    "\n",
    "## Key Features\n",
    "\n",
    "1. Query Expansion: Transforms short queries into detailed hypothetical documents.\n",
    "2. Flexible Configuration: Allows adjustment of chunk size, overlap, and number of retrieved documents.\n",
    "3. Integration with OpenAI Models: Uses GPT-4 for hypothetical document generation and OpenAI embeddings for vector representation.\n",
    "\n",
    "## Benefits of this Approach\n",
    "\n",
    "1. Improved Relevance: By expanding queries into full documents, HyDE can potentially capture more nuanced and relevant matches.\n",
    "2. Handling Complex Queries: Particularly useful for complex or multi-faceted queries that might be difficult to match directly.\n",
    "3. Adaptability: The hypothetical document generation can adapt to different types of queries and document domains.\n",
    "4. Potential for Better Context Understanding: The expanded query might better capture the context and intent behind the original question.\n",
    "\n",
    "## Implementation Details\n",
    "\n",
    "1. Uses OpenAI's ChatGPT model for hypothetical document generation.\n",
    "2. Employs FAISS for efficient similarity search in the vector space.\n",
    "3. Allows for easy visualization of both the hypothetical document and retrieved results.\n",
    "\n",
    "## Conclusion\n",
    "\n",
    "Hypothetical Document Embedding (HyDE) represents an innovative approach to document retrieval, addressing the semantic gap between queries and documents. By leveraging advanced language models to expand queries into hypothetical documents, HyDE has the potential to significantly improve retrieval relevance, especially for complex or nuanced queries. This technique could be particularly valuable in domains where understanding query intent and context is crucial, such as legal research, academic literature review, or advanced information retrieval systems."
   ]
  },
  {
   "cell_type": "markdown",
   "metadata": {},
   "source": [
    "<div style=\"text-align: center;\">\n",
    "\n",
    "<img src=\"../images/HyDe.svg\" alt=\"HyDe\" style=\"width:40%; height:auto;\">\n",
    "</div>"
   ]
  },
  {
   "cell_type": "markdown",
   "metadata": {},
   "source": [
    "<div style=\"text-align: center;\">\n",
    "\n",
    "<img src=\"../images/hyde-advantages.svg\" alt=\"HyDe\" style=\"width:100%; height:auto;\">\n",
    "</div>"
   ]
  },
  {
   "cell_type": "markdown",
   "metadata": {},
   "source": [
    "### Import libraries"
   ]
  },
  {
   "cell_type": "code",
   "execution_count": 8,
   "metadata": {},
   "outputs": [
    {
     "data": {
      "text/plain": [
       "True"
      ]
     },
     "execution_count": 8,
     "metadata": {},
     "output_type": "execute_result"
    }
   ],
   "source": [
    "import os\n",
    "import sys\n",
    "from dotenv import load_dotenv\n",
    "\n",
    "\n",
    "sys.path.append(os.path.abspath(os.path.join(os.getcwd(), '..'))) # Add the parent directory to the path sicnce we work with notebooks\n",
    "from helper_functions import *\n",
    "from rag_techniques.evaluation.evalute_rag import *\n",
    "\n",
    "# Load environment variables from a .env file\n",
    "load_dotenv()\n"
   ]
  },
  {
   "cell_type": "markdown",
   "metadata": {},
   "source": [
    "### Define document(s) path"
   ]
  },
  {
   "cell_type": "code",
   "execution_count": 9,
   "metadata": {},
   "outputs": [],
   "source": [
    "path = \"../data/Understanding_Climate_Change.pdf\""
   ]
  },
  {
   "cell_type": "markdown",
   "metadata": {},
   "source": [
    "### Define the HyDe retriever class - creating vector store, generating hypothetical document, and retrieving"
   ]
  },
  {
   "cell_type": "code",
   "execution_count": 12,
   "metadata": {},
   "outputs": [],
   "source": [
    "from langchain_groq import ChatGroq\n",
    "from langchain_cohere import CohereEmbeddings\n",
    "\n",
    "\n",
    "class HyDERetriever:\n",
    "    def __init__(self, files_path, chunk_size=500, chunk_overlap=100):\n",
    "        self.llm = ChatGroq(model=\"llama-3.1-8b-instant\", temperature=0)\n",
    "\n",
    "        self.embeddings = CohereEmbeddings(model=\"embed-english-v3.0\")\n",
    "        self.chunk_size = chunk_size\n",
    "        self.chunk_overlap = chunk_overlap\n",
    "        self.vectorstore = encode_pdf(files_path, chunk_size=self.chunk_size, chunk_overlap=self.chunk_overlap)\n",
    "    \n",
    "        \n",
    "        self.hyde_prompt = PromptTemplate(\n",
    "            input_variables=[\"query\", \"chunk_size\"],\n",
    "            template=\"\"\"Given the question '{query}', generate a hypothetical document that directly answers this question. The document should be detailed and in-depth.\n",
    "            the document size has be exactly {chunk_size} characters.\"\"\",\n",
    "        )\n",
    "        self.hyde_chain = self.hyde_prompt | self.llm\n",
    "\n",
    "    def generate_hypothetical_document(self, query):\n",
    "        input_variables = {\"query\": query, \"chunk_size\": self.chunk_size}\n",
    "        return self.hyde_chain.invoke(input_variables).content\n",
    "\n",
    "    def retrieve(self, query, k=3):\n",
    "        hypothetical_doc = self.generate_hypothetical_document(query)\n",
    "        similar_docs = self.vectorstore.similarity_search(hypothetical_doc, k=k)\n",
    "        return similar_docs, hypothetical_doc\n"
   ]
  },
  {
   "cell_type": "markdown",
   "metadata": {},
   "source": [
    "### Create a HyDe retriever instance"
   ]
  },
  {
   "cell_type": "code",
   "execution_count": 13,
   "metadata": {},
   "outputs": [],
   "source": [
    "retriever = HyDERetriever(path)"
   ]
  },
  {
   "cell_type": "markdown",
   "metadata": {},
   "source": [
    "### Demonstrate on a use case"
   ]
  },
  {
   "cell_type": "code",
   "execution_count": 14,
   "metadata": {},
   "outputs": [],
   "source": [
    "test_query = \"What is the main cause of climate change?\"\n",
    "results, hypothetical_doc = retriever.retrieve(test_query)"
   ]
  },
  {
   "cell_type": "markdown",
   "metadata": {},
   "source": [
    "### Plot the hypothetical document and the retrieved documnets "
   ]
  },
  {
   "cell_type": "code",
   "execution_count": 15,
   "metadata": {},
   "outputs": [
    {
     "name": "stdout",
     "output_type": "stream",
     "text": [
      "hypothetical_doc:\n",
      "\n",
      "**Climate Change Report: Main Cause**  **Introduction:** Climate change is a pressing global issue, with far-reaching\n",
      "consequences for the environment, human health, and the economy.  **Main Cause:** The main cause of climate change is\n",
      "the increase in greenhouse gases (GHGs) in the Earth's atmosphere, primarily due to human activities.  **Key Factors:**\n",
      "1. **Carbon dioxide (CO2) emissions:** Released through fossil fuel combustion, land-use changes, and industrial\n",
      "processes. 2. **Methane (CH4) emissions:** Released through agriculture, natural gas production and transport, and\n",
      "landfills. 3. **Nitrous oxide (N2O) emissions:** Released through agriculture, industrial processes, and the production\n",
      "of nitric acid.  **Consequences:** Rising GHG levels trap heat, leading to global warming, extreme weather events, and\n",
      "altered ecosystems.  **Recommendations:** Reduce GHG emissions through:  1. Renewable energy adoption 2. Energy\n",
      "efficiency improvements 3. Sustainable land-use practices 4. Climate-resilient infrastructure development  **Action:**\n",
      "Implement policies and technologies to mitigate climate change and ensure a sustainable future.\n",
      "\n",
      "Context 1:\n",
      "predict future trends. The evidence overwhelmingly shows that recent changes are primarily \n",
      "driven by human activities, particularly the emission of greenhou se gases.  \n",
      "Chapter 2: Causes of Climate Change  \n",
      "Greenhouse Gases  \n",
      "The primary cause of recent climate change is the increase in greenhouse gases in the \n",
      "atmosphere. Greenhouse gases, such as carbon dioxide (CO2), methane (CH4), and nitrous \n",
      "oxide (N2O), trap heat from the sun, creating a \"greenhouse effect.\" This effect is  essential\n",
      "\n",
      "\n",
      "Context 2:\n",
      "development of eco -friendly fertilizers and farming techniques is  essential for reducing the \n",
      "agricultural sector's carbon footprint.  \n",
      "Chapter 3: Effects of Climate Change  \n",
      "The effects of climate change are already being felt around the world and are projected to \n",
      "intensify in the coming decades. These effects include:  \n",
      "Rising Temperatures  \n",
      "Global temperatures have risen by about 1.2 degrees Celsius (2.2 degrees Fahrenheit) since\n",
      "\n",
      "\n",
      "Context 3:\n",
      "By understanding the causes, effects, and potential solutions to climate change, we can take \n",
      "informed actions to protect our planet for future generations. Global cooperation, innovation, \n",
      "and commitment are key to addressing this pressing challenge.  \n",
      " \n",
      "Chapter 5: The Role of Technology in Climate Change \n",
      "Mitigation  \n",
      "Advanced Renewable Energy Solutions  \n",
      "Next -Generation Solar Technologies\n",
      "\n",
      "\n"
     ]
    }
   ],
   "source": [
    "docs_content = [doc.page_content for doc in results]\n",
    "\n",
    "print(\"hypothetical_doc:\\n\")\n",
    "print(text_wrap(hypothetical_doc)+\"\\n\")\n",
    "show_context(docs_content)"
   ]
  },
  {
   "cell_type": "code",
   "execution_count": null,
   "metadata": {},
   "outputs": [],
   "source": []
  }
 ],
 "metadata": {
  "kernelspec": {
   "display_name": ".venv",
   "language": "python",
   "name": "python3"
  },
  "language_info": {
   "codemirror_mode": {
    "name": "ipython",
    "version": 3
   },
   "file_extension": ".py",
   "mimetype": "text/x-python",
   "name": "python",
   "nbconvert_exporter": "python",
   "pygments_lexer": "ipython3",
   "version": "3.10.6"
  }
 },
 "nbformat": 4,
 "nbformat_minor": 2
}
